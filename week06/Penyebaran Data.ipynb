{
 "cells": [
  {
   "attachments": {},
   "cell_type": "markdown",
   "metadata": {},
   "source": [
    "# Penyebaran Data\n",
    "\n",
    "## Apa itu penyebaran data?\n",
    "Pada bab sebelumnya telah dibahas bagaimana cara mengukur pusat sebuah data. Pada pengukuran pemusatan data, kita hanya mengamati distribusi frekuensi dari data. Pemusatan data tidak mengukur bagaimana penyebaran data dibandingan dengan titik pusatnya. Pada banyak kasus, kita perlu mengamati jarak data dengan titik pusatnya. Pada pertemuan sebelumnya telah disinggung tentang perhitungan rentang dan Interquartile Range (IQR). Pada bab ini, kita akan menggunakan pengukuran lain dalam mengetahui penyebaran data, yaitu varians (variance) dan simpangan baku (standard deviation)\n",
    "\n",
    "## Pengukuran Penyebaran Data\n",
    "### Varians (*Variance*)\n",
    "\n",
    "Varians secara sederhana dapat didefinisikan sebagai seberapa jauh data menyebar dari pusat data. Varians dapat dihitung dengan mengkuadratkan nilai data dengan nilai mean dari kelompok data (dataset). Selanjutnya, pusat data yang digunakan dalam varians adalah nilai rata-rata atau means, sehingga sebelum dapat menghitung nilai varians dari sebuah dataset, maka harus dihitung terlebih dahulu nilai dari mean-nya. Persamaan 1 digunakan untuk mengukur nilai varians.\n",
    "\n",
    "\\begin{equation}\n",
    "\\sigma^{2}=\\frac{\\sum_{i=1}^{N}(x_i-\\mu)^{2}}{N}\n",
    "\\end{equation}\n",
    "\n",
    "Simbol $\\sigma$ disebut sebagai sigma. Jika simbol sigma digunakan dalam menghitung nilai varians, maka nilai varians yang dimaksud adalah nilai varians dari sebuah populasi atau keseluruhan data. Oleh karena itu, simbol μ juga digunakan sebagai nilai mean dari populasi. Bagimana jika yang dihitung adalah nilai varians dari sampel data? Maka persamaan dirubah seperti pada Persamaan 2.\n",
    "\n",
    "\\begin{equation}\n",
    "S^{2}=\\frac{\\sum_{i=1}^{n}(x_i-\\bar{x})^{2}}{n-1}\n",
    "\\end{equation}\n",
    "\n",
    "Nilai varians pada data sampel sedikit berbeda dengan pada populasi. Jumlah data pada nilai varians sampel akan dikurangi 1. Hal ini dikarenakan terdapat bias pada data sampel. Jika tidak dikurangi dengan 1 maka nilai varians yang dihasilkan tidak akurat.\n",
    "\n",
    "### Simpangan Baku (*Standard Deviation*)\n",
    "Simpangan baku (standard deviation) dapat didefinisikan sebagai seberapa banyak varasi data pada kelompok data (dataset) terhadap nilai mean. Semakin besar nilai simpangan baku maka semakin bervariasi data didalam dataset begitu juga sebaliknya. Untuk menghitung simpangan baku, kita cukup melakukan operasi pengakaran pada nilai mean, sehingga didapatkan nilai simpangan baku pada populasi dan sampel seperti pada persamaan 3 dan 4 secara berurutan.\n",
    "\n",
    "\\begin{equation}\n",
    "\\sigma=\\sqrt{\\frac{\\sum_{i=1}^{N}(x_i-\\mu)^{2}}{N}}\n",
    "\\end{equation}\n",
    "\n",
    "\\begin{equation}\n",
    "S=\\sqrt{\\frac{\\sum_{i=1}^{n}(x_i-\\bar{x})^{2}}{n-1}}\n",
    "\\end{equation}"
   ]
  },
  {
   "cell_type": "markdown",
   "metadata": {},
   "source": [
    "#### Contoh Kasus Sederhana\n",
    "Pada kelas VII SMP XYZ terdapat nilai matematika  UTS tahun 2020. Hasil UTS tersebut secara keseluruhan adalah sebagai berikut,\n",
    "\n",
    "<br/><center>80 90 60 70 80 85 65 75 70 70</center>\n",
    "\n",
    "Berapa nilai variance dan simpangan bakunya? Kita kerjakan dengan python!"
   ]
  },
  {
   "cell_type": "code",
   "execution_count": 9,
   "metadata": {},
   "outputs": [
    {
     "name": "stdout",
     "output_type": "stream",
     "text": [
      "Nilai variance adalah 77.25\n",
      "Nilai simpangan baku adalah 8.79\n"
     ]
    }
   ],
   "source": [
    "import statistics\n",
    "from math import sqrt\n",
    "\n",
    "data = [80, 90, 60, 70, 80, 85, 65, 75, 70, 70]\n",
    "\n",
    "# Cara manual untuk variance\n",
    "# mean dihitung dengan library\n",
    "\n",
    "rata_rata = statistics.mean(data)\n",
    "jarak_data = 0\n",
    "\n",
    "for i in range(len(data)):\n",
    "    jarak_data = jarak_data + pow((data[i]-rata_rata),2)\n",
    "\n",
    "var = jarak_data / len(data)\n",
    "print(\"Nilai variance adalah {:0.2f}\".format(var))\n",
    "\n",
    "stdev = sqrt(var)\n",
    "print(\"Nilai simpangan baku adalah {:0.2f}\".format(stdev))"
   ]
  },
  {
   "cell_type": "code",
   "execution_count": 5,
   "metadata": {},
   "outputs": [
    {
     "name": "stdout",
     "output_type": "stream",
     "text": [
      "77.25\n"
     ]
    }
   ],
   "source": [
    "import statistics\n",
    "\n",
    "data = [80, 90, 60, 70, 80, 85, 65, 75, 70, 70]\n",
    "\n",
    "var = statistics.pvariance(data) # pvariance digunakan untuk menghitung variance populasi pada library statistics\n",
    "print(\"Nilai variance adalah {:0.2f}\".format(var))\n",
    "\n",
    "stdev = statistics.stdev(data)\n"
   ]
  },
  {
   "cell_type": "code",
   "execution_count": null,
   "metadata": {},
   "outputs": [],
   "source": []
  }
 ],
 "metadata": {
  "kernelspec": {
   "display_name": "Python 3",
   "language": "python",
   "name": "python3"
  },
  "language_info": {
   "codemirror_mode": {
    "name": "ipython",
    "version": 3
   },
   "file_extension": ".py",
   "mimetype": "text/x-python",
   "name": "python",
   "nbconvert_exporter": "python",
   "pygments_lexer": "ipython3",
   "version": "3.7.3"
  }
 },
 "nbformat": 4,
 "nbformat_minor": 4
}
