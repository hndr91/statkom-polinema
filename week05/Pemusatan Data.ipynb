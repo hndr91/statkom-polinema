{
 "cells": [
  {
   "cell_type": "markdown",
   "metadata": {},
   "source": [
    "# Pemusatan Data\n",
    "Pada topik pemusatan data akan dibahas tentang,\n",
    "•\tDefinisi pemusatan data\n",
    "•\tMengukur pemusatan data\n",
    "•\tDefinisi Sebaran Data\n",
    "•\tMengukur Sebaran Data\n",
    "\n",
    "## Apa itu pemusatan data?\n",
    "Pemusatan data (*central of tendency*) adalah nilai tunggal yang mendeskripsikan data berdasarkan nilai tengah atau posisi tengahnya. Oleh karena itu, pemusatan data juga sebagai pencarian nilai tengah dari data. Selain itu, pemusatan data juga sering disebut juga sebagai ringkasan statistik dari sebuah data. Terdapat 3 ukuran yang dapat digunakan untuk mengetahui pusat data, yaitu, **mean**, **median**, **modus** (*mode*)."
   ]
  },
  {
   "cell_type": "markdown",
   "metadata": {},
   "source": [
    "# Pengukuran Pemusatan Data\n",
    "## *Mean*\n",
    "Mean atau dapat juga disebut dengan nilai rata-rata aritmatika. Dalam istilah asing, mean juga sering disebut sebagai average. Nilai mean dapat dihitung dengan menjumlahkan semua nilai data dengan jumlah data. Jika kita memiliki sejumlah n data, maka untuk mendapatkan nilai mean, maka jumlahkan nilai-nilai yang dimiliki oleh setiap n, yaitu x_1+x_2+x_3+⋯+x_n kemudian dibagi dengan n. Nilai mean di notasikan dengan simbol ¯x atau dibaca dengan x bar. Persamaan 1 merupakan cara untuk menghitung mean,\n",
    "\n",
    "\\begin{equation}\n",
    "\\bar{x} = \\frac{x_1 + x_2 + x_3 + ... + x_n}{n}\n",
    "\\end{equation}\n",
    "\n",
    "Persamaan 1 dapat dituliskan dengan lebih sederhana dengan menggunakan simbol sigma (∑), sehingga menjadi Persamaan 2.\n",
    "\n",
    "\\begin{equation}\n",
    "\\bar{x} = \\frac{\\sum x}{n}\n",
    "\\end{equation}\n",
    "\n",
    "Sebagai catatan, jika kita menggunakan notasi $\\bar{x}$, maka secara otomatis, nilai mean yang dimaksud adalah nilai mean untuk data sampel. Sehingga, jika kita ingin menghitung nilai mean dari populasi, maka notasi $\\bar{x}$ harus diganti dengan $\\mu$ atau dibaca “*mu*”. Persamaan 3 merupakan persamaan untuk menghitung mean pada tingkat populasi.\n",
    "\n",
    "\\begin{equation}\n",
    "\\mu = \\frac{\\sum x}{n}\n",
    "\\end{equation}\n",
    "\n",
    "### Studi Kasus Sederana\n",
    "Dalam sebuah keranjang, terdapat 10 buah apel dengan bobot masing masing yaitu,\n",
    "\n",
    "100gr, 200gr, 150gr, 100gr, 120gr, 80gr, 90gr, 160gr, 110gr, 170gr\n",
    "\n",
    "Berapa berat rata-rata buah apel dalam keranjang tersebut? Mari kita selesaikan dengan python!"
   ]
  },
  {
   "cell_type": "code",
   "execution_count": null,
   "metadata": {},
   "outputs": [],
   "source": [
    "# Tanpa Numpy\n",
    "# Buat daftar buah apel dalam bentuk list\n",
    "apel = [100, 200, 150, 100, 120, 80, 90, 160, 110, 170]\n",
    "\n",
    "total_berat = 0 # variabel untuk menyimpan total berat seluruh apel\n",
    "\n",
    "for i in range(len(apel)):\n",
    "    total_berat = total_berat + apel[i] # jumlahkan semua berat apel\n",
    "\n",
    "avg_apel = total_berat / len(apel)\n",
    "print(avg_apel)"
   ]
  },
  {
   "cell_type": "code",
   "execution_count": null,
   "metadata": {},
   "outputs": [],
   "source": [
    "# Dengan Numpy\n",
    "import numpy as np\n",
    "apel = [100, 200, 150, 100, 120, 80, 90, 160, 110, 170]\n",
    "avg_apel = np.mean(apel)\n",
    "print(avg_apel)"
   ]
  },
  {
   "cell_type": "markdown",
   "metadata": {},
   "source": [
    "## Median\n",
    "Pengukuran lain yang dapat digunakan untuk mengukur pemusatan data adalah median atau nilai tengah. Sebelum menentukan nilai tengah dari sebuah data, nilai-nilai pada data harus diurutkan terlebih dahulu mulai dari yang terkecil hingga yang terbesar. Contoh, terdapat data berat apel dalam sebuah keranjang sebagai berikut,\n",
    "\n",
    "<br/><center>20gr\t30gr\t100gr\t50gr\t40gr</center>\n",
    "\n",
    "Untuk mengetahui nilai tengah dari data berat apel, pertama-tama urutkan data berat sehingga menjadi,\n",
    "\n",
    "<br/><center>20gr\t30gr\t<strong>40gr</strong>\t50gr\t100gr</center>\n",
    "\n",
    "Berdasarkan urutan tersebut, dapat diamati bahwa nilai tengah dari data berat apel adalah 40gr. Jika jumlah data yang dimiiki ganjil, maka nilai tengah dari data lebih mudah untuk didapatkan. Bagimana jika jumlah data adalah genap? Jika jumlah data adalah genap, maka cari nilai rata-rata dari nilai tengah data tersebut. Contoh, pada data berat apel terdapat satu lagi buah apel, sehingga data berat apel menjadi,\n",
    "\n",
    "<br/><center>20gr\t30gr\t40gr\t45gr\t50gr\t100gr</center>\n",
    "\n",
    "Berdasarkan hasil pengamatan, tidak ditemukan nilai mutlak yang berada ditengah. Terdapat 2 nilai tengah yaitu 40gr dan 45gr. Sehingga nilai tengah ditentukan dengan Persamaan 4,\n",
    "\n",
    "\\begin{equation}\n",
    "median = \\frac{40+45}{2} = 47.5\n",
    "\\end{equation}\n",
    "\n",
    "### Studi Kasus Sederhana\n",
    "Kita gunakan lagi contoh keranjang apel\n",
    "\n",
    "100gr, 200gr, 150gr, 100gr, 120gr, 80gr, 90gr, 160gr, 110gr, 170gr\n",
    "\n",
    "Berapa nilai mediannya? Kita kerjakan dengan python numpy"
   ]
  },
  {
   "cell_type": "code",
   "execution_count": null,
   "metadata": {},
   "outputs": [],
   "source": [
    "import numpy as np\n",
    "apel = [100, 200, 150, 100, 120, 80, 90, 160, 110, 170]\n",
    "med_apel = np.median(apel)\n",
    "apel.sort()\n",
    "apel_urut = ' '.join(map(str, apel))\n",
    "print('Apel urut : {:s}'.format(apel_urut))\n",
    "print(med_apel)"
   ]
  },
  {
   "cell_type": "markdown",
   "metadata": {},
   "source": [
    "### Trivia\n",
    "Bagaimana cara mencari median tanpa menggunakan library numpy (alias manual) ? "
   ]
  },
  {
   "cell_type": "markdown",
   "metadata": {},
   "source": [
    "## Modus (*Mode*)\n",
    "Ukuran lain yang dapat digunakan untuk mengukur pusat data adalah modus. Modus dapat didefinisikan sebagai nilai yang sering muncul dari sebuah data. Sebagai contoh, terdapat nilai matematika dari Kelas 10-1 SMA XYZ sebagai berikut,\n",
    "\n",
    "<br/><center>70\t80\t70\t70\t90\t100</center>\n",
    "\n",
    "Berdasarkan pengamatan data, dapat diketahui, nilai yangs sering muncul adalah 70, sehingga modus dari data nilai matematika Kelas 10-1 SMA XYZ adalah 70. Namun bagaimana jika tidak ditemukan nilai dominan yang sering muncul? Sebagai contoh data nilai IPA kelas 8-2 SMP XYZ berikut,\n",
    "\n",
    "<br/><center>70\t70\t80\t80\t90\t100</center>\n",
    "\n",
    "Berdasarkan hasil pengamatan terdapat 2 nilai yang sering muncul, yaitu 70 dan 80. Lalu bagaiaman menentukan modusnya? Dalam kasus ini, data tersebut **tidak memiliki nilai modus** atau dapat disebut juga dengan **bi-modal**.\n",
    "\n",
    "### Studi Kasus Sederhana\n",
    "Kita akan menggunakan nilai matematika Kelas 10-1 SMA XZY seperti yang telah disebutkan sebelumnya. Mari kita selesaikan dengan python scipy."
   ]
  },
  {
   "cell_type": "code",
   "execution_count": null,
   "metadata": {},
   "outputs": [],
   "source": [
    "from scipy import stats\n",
    "\n",
    "nilai = [70, 80, 70, 70, 90, 100]\n",
    "\n",
    "mode_nilai = stats.mode(nilai)\n",
    "print(mode_nilai)\n",
    "print(mode_nilai.mode)"
   ]
  },
  {
   "attachments": {},
   "cell_type": "markdown",
   "metadata": {},
   "source": [
    "# Pengukuran Sebaran Data\n",
    "\n",
    "Setelah mengetahui apa itu pemusatan data, kita akan mencoba belajar apa itu sebaran data. Sebaran data akan sangat bermanfaat ketika terdapat data yang nilainya sangat ekstrem sehingga dapat mempengaruhi nilai dari pemusatan data.\n",
    "\n",
    "Sebaran data adalah nilai yang menunjukkan seberapa jauh data dari pusat data. Pengukuran penyebaran data ini dapat dimanfaatkan untuk mengetahui seberapa baik pengukuran nilai pemusatan data, dan nilai apa yang baik untuk digunakan sebagai acuan nilai pemusatan data. Pada modul ini, kita akan membahas 2 ukuran sebaran data, yaitu rentang (range) dan interquartile range (IQR)."
   ]
  },
  {
   "attachments": {},
   "cell_type": "markdown",
   "metadata": {},
   "source": [
    "## Rentang (Range)\n",
    "Salah satu cara untuk mengetahui sebaran data adalah dengan menggunakan rentang (range). Rentang dapat dihitung dengan mengurangi nilai tertinggi (maksimal) dengan nilai terendah (minimal) dari suatu kelompok data. Sehingga rentang dapat dituliskan seperti pada persamaan dibawah ini,\n",
    "\n",
    "\\begin{equation}\n",
    "Rentang = Nilai\\;maksimal - nilai\\;minimal\n",
    "\\end{equation}\n",
    "\n",
    "Sebagai contoh, terdapat nilai dari Bahasa Indonesia kelas 12-2 SMA XYZ sebagai berikut,\n",
    "<br><center>23\t56\t45\t65\t59\t55\t62\t54\t85\t25</center>\n",
    "\n",
    "Nilai rentang dari data tesebut adalah,\n",
    "\\begin{equation}\n",
    "Rentang = 85 - 23 = 62\n",
    "\\end{equation}\n",
    "\n",
    "Seperti yang telah diamati, bahawa rentang sangat terpengaruh oleh nilai maksimal dan nilai minimal. Rentang tidak dapat mengelompokkan data dalam kelompok tertentu. Namun, rentang dapat digunakan untuk mengamati nilai data yang jauh dari nilai tengah, dimana data tersebut dapat menggangu nilai pemusatan data atau bahkan merupakan data _outlayer_.\n",
    "\n",
    "### Menghitung Rentang dengan Python\n",
    "Untuk mendapatkan nilai rentang dengan menggunakan python, kita cukup menggunakan fungsi min() dan max() pada sebuah list atau array"
   ]
  },
  {
   "cell_type": "code",
   "execution_count": null,
   "metadata": {},
   "outputs": [],
   "source": [
    "# Data Nilai\n",
    "nilai = [23, 56, 45, 65, 59, 55, 62, 54, 85, 25]\n",
    "\n",
    "nilai_min = min(nilai)\n",
    "nilai_max = max(nilai)\n",
    "rentang = nilai_max - nilai_min\n",
    "\n",
    "print(rentang)"
   ]
  },
  {
   "attachments": {},
   "cell_type": "markdown",
   "metadata": {},
   "source": [
    "## Interquartile Range (IQR)\n",
    "Interquartile range (IQR) membagi kelompok data kedalam perempat kelompok (quarter). Untuk membangi kelompok data, pertama diurutkan dari nilai terkecil ke terbesar. Kemudian cari median dari nilai-nilai tersebut. Selanjutnya, setiap paruh pertama dan paruh kedua, dicari kembali nilai mediannya. Sebagai contoh, data nilai matermatika diskrit kelas 1A adalah sebagai berikut,\n",
    "\n",
    "<br/><center>65\t68\t73\t75\t80\t81\t85\t90\t95</center>\n",
    "\n",
    "Median dari data tersebut adalah **80**. Dari titik tengah 80, kita mendapatkan 2 kelompok nilai yaitu, **65, 68, 73, 75** dan **81, 85, 90, 95**. Pada kelompok data sebelah kiri dari nilai median 80. Kelompok tersebut memiliki 4 data sehingga nilai mediannya adalah (68+73)⁄2=70.5. Kemudian untuk kelompok data sebelah kanan 80, karena juga memiliki jumlah data yang genap, maka nilai mediannya adalah (85+90)⁄2=87.5. Dari nilai-nilai median tersebut, maka didapatkan,\n",
    "\n",
    "1.\tKuartil (Quartil) 1 / Q1 adalah 70.5\n",
    "2.\tKuartil 2 / Q2 adalah 80\n",
    "3.\tKuartil 3 / Q3 adalah 87.5\n",
    "\n",
    "Nilai IQR dapat dihitung dengan menggunakan persamaan dibawah ini,\n",
    "\n",
    "\\begin{equation}\n",
    "IQR = Q3 - Q1\n",
    "\\end{equation}\n",
    "\n",
    "Sehingga nilai IQR dari data nilai matematika diskrit kelas 1A adalah 87.5-70.5=17. Bagaimana jika jumlah data adalah genap? Untuk mencari Q1, Q2, dan Q3 tetap menggunakan konsep perhitungan median.\n",
    "\n",
    "### Alternatif Perhitungan IQR\n",
    "Pada referensi lain, terdapat pendapat lain dalam menghitung IQR. Pada pendapat tersebut, sebelum menentukan Q1, Q2, dan Q3, 25% data awal dan 25% data akhir harus dibuang terlebih dahulu. Sehingga didapatkan 50% data yang ada ditengah. Nilai IQR didapatkan dengan mengurangi nilai maksimal dan nilai minimal pada 50% data yang ada di posisi tengah. Jika kita menggunakan data nilai yang sama pada contoh nilai matematika diskrit kelas 1A, maka data akan menjadi,\n",
    "\n",
    "<center>73\t75\t80\t81\t85</center>\n",
    "\n",
    "Sehingga nilai IQR adalah 85-73=12\n",
    "\n",
    "\n",
    "\n",
    "### Mencari IQR dengan Python dan Numpy\n",
    "Untuk mencari IQR pada data, kita dapat memanfaatkan fungsi percentile pada numpy"
   ]
  },
  {
   "cell_type": "code",
   "execution_count": null,
   "metadata": {},
   "outputs": [],
   "source": [
    "import numpy as np\n",
    "\n",
    "nilai = [65, 68, 73, 75, 80, 81, 85, 90, 95] # Jumlah adalah 9 sehingga nilai median adalah data ke-5\n",
    "nilai_q1 = np.median(nilai[:4]) # mencari nilai median dari data ke-1 hingga ke-4\n",
    "nilai_q3 = np.median(nilai[5:]) # mencari nilai median dari data ke-6 hingga ke-9\n",
    "\n",
    "nilai_iqr = nilai_q3 - nilai_q1\n",
    "\n",
    "print(nilai_iqr)"
   ]
  },
  {
   "cell_type": "markdown",
   "metadata": {},
   "source": [
    "### Mencari IQR dengan Python dan Scipy (Perhitungan Alternatif)\n",
    "Untuk mencari IQR pada data, kita dapat memanfaatkan fungsi iqr pada scipy"
   ]
  },
  {
   "cell_type": "code",
   "execution_count": null,
   "metadata": {},
   "outputs": [],
   "source": [
    "from scipy.stats import iqr\n",
    "\n",
    "nilai = [65, 68, 73, 75, 80, 81, 85, 90, 95]\n",
    "nilai_iqr = iqr(nilai)\n",
    "print(nilai_iqr)"
   ]
  },
  {
   "attachments": {},
   "cell_type": "markdown",
   "metadata": {},
   "source": [
    "## Mengubah Data\n",
    "Pada beberapa kasus, terdapat kebutuhan untuk mengubah data baik itu menambahkan atau mengurangkan nilai pada seluruh data pada kelompok data (_shifting_) atau mengalikan atau membagi nilai data-data dengan nilai tertentu (_scaling_). Sebelum melakukan hal tersebut, perlu diketahui dampak apa yang terjadi pada data, khususnya pada nilai-nilai pemusatan data (mean, median, modus) dan persebaran data khususnya rentang dan IQR.\n",
    "\n",
    "### _Shifting_\n",
    "_Shifting_ merupakan teknik menambah atau mengurangi seluruh data dengan nilai tertentu. Sebagai contoh, nilai matermatika diskrit kelas 1C, yaitu,\n",
    "\n",
    "<br/><center>65\t68\t73\t75\t80\t80\t85\t90\t95</center>\n",
    "\n",
    "Dari data tersebut didapatkan informasi,\n",
    "\n",
    "1.\tMean\t\t= 79\n",
    "2.\tMedian\t\t= 80\n",
    "3.\tModus\t\t= 80\n",
    "4.\tRentang\t= 30\n",
    "5.\tIQR\t\t= 17\n",
    "\n",
    "Shifiting dilakukan dengan nambahkan 2 pada seluruh data. Sehingga data menjadi,\n",
    "\n",
    "<br/><center>67\t70\t75\t77\t82\t82\t87\t92\t97</center>\n",
    "\n",
    "Setelah melakukan shifting didapatkan,\n",
    "\n",
    "1.\tMean\t\t= 81\n",
    "2.\tMedian\t\t= 82\n",
    "3.\tModus\t\t= 82\n",
    "4.\tRentang\t= 30\n",
    "5.\tIQR\t\t= 17\n",
    "\n",
    "Jika diperhatikan, proses _shifting_ tidak akan berpengaruh pada nilai rentang dan IQR. Akan tetapi, nilai-nilai pemusatan data akan berubah sesuai dengan nilai shifting yang ditambahkan. Hasil ini selamanya valid baik untuk penambahan maupun pengurangan.\n",
    "\n",
    "#### Shifting Pada Python\n",
    "Untuk melakukan shifting pada python, kita hanya perlu menambahkan/mengurangkan nilai _shifting_ pada data. Akan jauh lebih mudah jika menggunakan library numpy"
   ]
  },
  {
   "cell_type": "code",
   "execution_count": null,
   "metadata": {},
   "outputs": [],
   "source": [
    "import numpy as np\n",
    "\n",
    "data = [65, 68, 73, 75, 80, 80, 85, 90, 95]\n",
    "\n",
    "data_shift = np.add(data, 2) # tambahkan seluruh nilai pada data dengan 2\n",
    "print(data_shift)\n",
    "\n",
    "data_shift_kurang = np.subtract(data, 2) # kurangi dengan 2\n",
    "print(data_shift_kurang)"
   ]
  },
  {
   "cell_type": "code",
   "execution_count": null,
   "metadata": {},
   "outputs": [],
   "source": [
    "# Mencari nilai statistik deskriptif dengan scipy\n",
    "from scipy import stats\n",
    "\n",
    "data = [65, 68, 73, 75, 80, 80, 85, 90, 95]\n",
    "stats.describe(data)"
   ]
  },
  {
   "attachments": {},
   "cell_type": "markdown",
   "metadata": {},
   "source": [
    "### _Scaling_\n",
    "Scaling adalah teknik manipulasi data dengan mengalikan atau membagi nilai data dengan nilai tertentu. Scaling sering digunakan untuk menyederhanakan nilai data yang memiliki nilai yang besar. Sebagai contoh, kita gunakan lagi data nilai matematika diskrit kelas 1C.\n",
    "\n",
    "<br/><center>65\t68\t73\t75\t80\t80\t85\t90\t95</center>\n",
    "\n",
    "Data tesebut akan kita scaling dengan mengalikannya dengan 2. Sehingga menjadi,\n",
    "\n",
    "<br/><center>130 136\t146\t150\t160\t160\t170\t180\t190</center>\n",
    "\n",
    "Nalai-nilai pemusatan, rentang dan IQR menjadi,\n",
    "\n",
    "1.\tMean\t\t= 158\n",
    "2.\tMedian\t\t= 160\n",
    "3.\tModus\t\t= 160\n",
    "4.\tRentang\t= 60\n",
    "5.\tIQR\t\t= 34\n",
    "\n",
    "Dengan melakukan pengalian dengan 2, maka nilai-nilai pemusatan data, rentang, dan IQR akan dikalikan dengan dengan 2. Sifat ini juga berlaku jika semua data dilakukan pembagian dengan nilai tertentu.\n",
    "\n",
    "Untuk melakukan shifting pada python, kita hanya perlu mekali/membagi nilai _shifting_ pada data. Akan jauh lebih mudah jika menggunakan library numpy"
   ]
  },
  {
   "cell_type": "code",
   "execution_count": null,
   "metadata": {},
   "outputs": [],
   "source": [
    "import numpy as np\n",
    "\n",
    "data = [65, 68, 73, 75, 80, 80, 85, 90, 95]\n",
    "\n",
    "data_shift_kali = np.multiply(data, 2) # kali seluruh nilai pada data dengan 2\n",
    "print(data_shift_kali)\n",
    "\n",
    "data_shift_bagi = np.divide(data, 2) # bagi dengan 2\n",
    "print(data_shift_bagi)"
   ]
  },
  {
   "cell_type": "code",
   "execution_count": null,
   "metadata": {},
   "outputs": [],
   "source": []
  }
 ],
 "metadata": {
  "kernelspec": {
   "display_name": "Python 3",
   "language": "python",
   "name": "python3"
  },
  "language_info": {
   "codemirror_mode": {
    "name": "ipython",
    "version": 3
   },
   "file_extension": ".py",
   "mimetype": "text/x-python",
   "name": "python",
   "nbconvert_exporter": "python",
   "pygments_lexer": "ipython3",
   "version": "3.7.7"
  }
 },
 "nbformat": 4,
 "nbformat_minor": 4
}
